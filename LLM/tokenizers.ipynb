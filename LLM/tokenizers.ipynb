{
 "cells": [
  {
   "cell_type": "markdown",
   "metadata": {},
   "source": [
    "#Popular tokenizers in NLP: Hugging Face Tokenizer\n",
    "The Hugging Face Transformers library provides various tokenizers tailored to different pre-trained models, such as BERT, GPT-3, T5, etc. Let's discuss how to use these tokenizers:\n"
   ]
  },
  {
   "cell_type": "markdown",
   "metadata": {},
   "source": [
    "1. BERT:\n",
    "- 'tokenizer.tokenize(text):' Splits the text into subword tokens. The ## symbol indicates that the subword is part of the preceding token.\n",
    "- 'tokenizer.convert_tokens_to_ids(tokens):' Converts tokens to their corresponding integer IDs.\n",
    "- 'tokenizer(text, return_tensors='pt'):' Encodes the input text into PyTorch tensors, including the input IDs and attention mask."
   ]
  },
  {
   "cell_type": "code",
   "execution_count": 1,
   "metadata": {},
   "outputs": [
    {
     "name": "stderr",
     "output_type": "stream",
     "text": [
      "/home/codespace/.python/current/lib/python3.12/site-packages/tqdm/auto.py:21: TqdmWarning: IProgress not found. Please update jupyter and ipywidgets. See https://ipywidgets.readthedocs.io/en/stable/user_install.html\n",
      "  from .autonotebook import tqdm as notebook_tqdm\n"
     ]
    },
    {
     "name": "stdout",
     "output_type": "stream",
     "text": [
      "['token', '##izer', '##s', 'are', 'great', '!']\n",
      "[19204, 17629, 2015, 2024, 2307, 999]\n",
      "{'input_ids': tensor([[  101, 19204, 17629,  2015,  2024,  2307,   999,   102]]), 'token_type_ids': tensor([[0, 0, 0, 0, 0, 0, 0, 0]]), 'attention_mask': tensor([[1, 1, 1, 1, 1, 1, 1, 1]])}\n"
     ]
    }
   ],
   "source": [
    "from transformers import BertTokenizer\n",
    "\n",
    "# Load the BERT tokenizer\n",
    "tokenizer = BertTokenizer.from_pretrained('bert-base-uncased')\n",
    "\n",
    "# Text to be tokenized\n",
    "text = \"Tokenizers are great!\"\n",
    "\n",
    "# Tokenize the text\n",
    "tokens = tokenizer.tokenize(text)\n",
    "print(tokens)\n",
    "# Output: ['token', '##izers', 'are', 'great', '!']\n",
    "\n",
    "# Convert tokens to token IDs\n",
    "token_ids = tokenizer.convert_tokens_to_ids(tokens)\n",
    "print(token_ids)\n",
    "# Output: [19204, 12963, 2024, 2307, 999]\n",
    "\n",
    "# Use tokenizer directly to encode text\n",
    "encoded_input = tokenizer(text, return_tensors='pt')\n",
    "print(encoded_input)\n",
    "# Output: {'input_ids': tensor([[  101, 19204, 12963,  2024,  2307,   999,   102]]), 'attention_mask': tensor([[1, 1, 1, 1, 1, 1, 1]])}\n"
   ]
  },
  {
   "cell_type": "markdown",
   "metadata": {},
   "source": [
    "Byte-Pair Encoding (BPE) Tokenizer\n",
    "\n",
    "- BPE is a popular subword tokenization technique used by models like GPT and RoBERTa. It involves:\n",
    "\n",
    "- Merging the most frequent pairs of characters iteratively until a certain vocabulary size is reached.\n",
    "- Handling rare and unknown words by breaking them into known subwords."
   ]
  },
  {
   "cell_type": "code",
   "execution_count": 2,
   "metadata": {},
   "outputs": [
    {
     "name": "stdout",
     "output_type": "stream",
     "text": [
      "{'input_ids': [37573, 4673, 318, 13899, 0], 'attention_mask': [1, 1, 1, 1, 1]}\n"
     ]
    }
   ],
   "source": [
    "from transformers import GPT2Tokenizer\n",
    "\n",
    "# Load the GPT-2 tokenizer\n",
    "tokenizer = GPT2Tokenizer.from_pretrained('gpt2')\n",
    "\n",
    "text = \"Machine learning is fascinating!\"\n",
    "\n",
    "# Tokenize and encode the text\n",
    "encoded_input = tokenizer(text)\n",
    "print(encoded_input)\n",
    "# Output: {'input_ids': [7134, 18716, 318, 27180, 0]}\n"
   ]
  },
  {
   "cell_type": "markdown",
   "metadata": {},
   "source": [
    "**Special Considerations for Tokenizers**\n",
    "\n",
    "- **Handling Unknown Words:** Some tokenizers have an unknown token ([UNK]) for words not present in the vocabulary. Subword tokenizers like BPE and WordPiece try to break the word into smaller components that exist in the vocabulary to mitigate this issue.\n",
    "- **Padding and Batch Tokenization:** When preparing data for a batch of inputs, tokenizers can pad the sequences to make them equal in length, which is necessary for efficient batching."
   ]
  },
  {
   "cell_type": "code",
   "execution_count": 7,
   "metadata": {},
   "outputs": [
    {
     "name": "stdout",
     "output_type": "stream",
     "text": [
      "{'input_ids': tensor([[15496,   995,     0, 50256, 50256],\n",
      "        [41762,   364,   389,  1049,     0]]), 'attention_mask': tensor([[1, 1, 1, 0, 0],\n",
      "        [1, 1, 1, 1, 1]])}\n"
     ]
    }
   ],
   "source": [
    "# Batch encoding with padding\n",
    "tokenizer.pad_token = tokenizer.eos_token\n",
    "\n",
    "texts = [\"Hello world!\", \"Transformers are great!\"]\n",
    "encoded_inputs = tokenizer(texts, padding=True, return_tensors='pt', truncation=True, max_length=10)\n",
    "print(encoded_inputs)\n",
    "# Output: {'input_ids': tensor([[ 101, 7592, 2088,  999,  102],\n",
    "#                               [ 101, 19081,  2024,  2307,  999,  102]]),\n",
    "#          'attention_mask': tensor([[1, 1, 1, 1, 1, 0],\n",
    "#                                    [1, 1, 1, 1, 1, 1]])}\n"
   ]
  },
  {
   "cell_type": "code",
   "execution_count": 11,
   "metadata": {},
   "outputs": [
    {
     "name": "stdout",
     "output_type": "stream",
     "text": [
      "[('!', 0), ('\"', 1), ('#', 2), ('$', 3), ('%', 4), ('&', 5), (\"'\", 6), ('(', 7), (')', 8), ('*', 9)]\n"
     ]
    }
   ],
   "source": [
    "#print tokenizer's tokens and their corresponding IDs\n",
    "vocab = tokenizer.get_vocab()\n",
    "print(list(vocab.items())[:10])"
   ]
  },
  {
   "cell_type": "code",
   "execution_count": null,
   "metadata": {},
   "outputs": [],
   "source": []
  }
 ],
 "metadata": {
  "kernelspec": {
   "display_name": "Python 3",
   "language": "python",
   "name": "python3"
  },
  "language_info": {
   "codemirror_mode": {
    "name": "ipython",
    "version": 3
   },
   "file_extension": ".py",
   "mimetype": "text/x-python",
   "name": "python",
   "nbconvert_exporter": "python",
   "pygments_lexer": "ipython3",
   "version": "3.12.1"
  }
 },
 "nbformat": 4,
 "nbformat_minor": 2
}
